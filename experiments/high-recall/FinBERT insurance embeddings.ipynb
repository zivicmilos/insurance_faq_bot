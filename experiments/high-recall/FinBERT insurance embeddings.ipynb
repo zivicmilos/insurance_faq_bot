{
 "cells": [
  {
   "cell_type": "markdown",
   "id": "9cd9c151",
   "metadata": {},
   "source": [
    "# FinBERT insurance embeddings"
   ]
  },
  {
   "cell_type": "markdown",
   "id": "37c41c8d",
   "metadata": {},
   "source": [
    "Here we use **FinBERT** sentiment analysis model to create word vectors for insurance-based questions. FinBERT is a pre-trained NLP model to analyze sentiment of financial text. This approach does not give better results than other approaches we tried earlier, in fact, have surprisingly bad performance:\n",
    "| Model | Score |\n",
    "| --- | --- |\n",
    "| Stemming | 84.0% |\n",
    "| Lemmatization | 75.9% |\n",
    "| N-grams | 79.9% |\n",
    "| Stemming + Stop words | 88.5% |\n",
    "| Custom word vectors combined with IDF | 69.4% |\n",
    "| Custom word vectors combined with POS+NER | 78.9% |\n",
    "| Pretrained word vectors | 72.5% |\n",
    "| Embeddings from pretrained FinBERT | 34.2% |"
   ]
  },
  {
   "cell_type": "code",
   "execution_count": 1,
   "id": "3f5ade0b",
   "metadata": {},
   "outputs": [
    {
     "name": "stderr",
     "output_type": "stream",
     "text": [
      "C:\\Users\\Milos\\anaconda3\\envs\\synechron\\Lib\\site-packages\\tqdm\\auto.py:21: TqdmWarning: IProgress not found. Please update jupyter and ipywidgets. See https://ipywidgets.readthedocs.io/en/stable/user_install.html\n",
      "  from .autonotebook import tqdm as notebook_tqdm\n"
     ]
    }
   ],
   "source": [
    "import json\n",
    "\n",
    "import numpy as np\n",
    "from sklearn.neighbors import NearestNeighbors\n",
    "from transformers import BertTokenizer, TFBertModel\n",
    "\n",
    "from utils import load_dataset\n",
    "\n",
    "N_NEIGHBOURS = 100"
   ]
  },
  {
   "cell_type": "code",
   "execution_count": 2,
   "id": "6f9c63ff",
   "metadata": {},
   "outputs": [
    {
     "name": "stdout",
     "output_type": "stream",
     "text": [
      "Score: 34.22%\n"
     ]
    }
   ],
   "source": [
    "df = load_dataset(\"../../data/insurance_qna_dataset.csv\")\n",
    "questions = np.unique(df.iloc[:, 0].to_numpy())\n",
    "\n",
    "# tokenizer = BertTokenizer.from_pretrained(\"ProsusAI/finbert\")\n",
    "# model = TFBertModel.from_pretrained(\"ProsusAI/finbert\")\n",
    "\n",
    "# Transform and save input questions\n",
    "# outputs = []\n",
    "# for i, q in enumerate(questions):\n",
    "#     encoded_text = tokenizer(q, return_tensors='tf')\n",
    "#     output = model(encoded_text)[1].numpy().reshape(-1)\n",
    "#     outputs.append(output)\n",
    "#     if i % 100 == 0:\n",
    "#         print(i)\n",
    "\n",
    "# outputs = np.asarray(outputs)\n",
    "# np.save('finbert_emmbedings.npy', outputs)\n",
    "outputs = np.load(\"finbert_emmbedings.npy\")\n",
    "\n",
    "knn = NearestNeighbors(n_neighbors=100, metric=\"cosine\").fit(outputs)\n",
    "\n",
    "with open(\"../../data/test_questions_json.json\") as json_file:\n",
    "    json_data = json.load(json_file)\n",
    "\n",
    "test_questions = json_data[\"question\"]\n",
    "original = json_data[\"original\"]\n",
    "\n",
    "# Transform and save test questions\n",
    "# tq = []\n",
    "# for i, q in enumerate(test_questions):\n",
    "#     encoded_text = tokenizer(q, return_tensors='tf')\n",
    "#     output = model(encoded_text)[1].numpy().reshape(-1)\n",
    "#     tq.append(output)\n",
    "#\n",
    "# tq = np.asarray(tq)\n",
    "# np.save('finbert_emmbedings_test.npy', tq)\n",
    "tq = np.load(\"finbert_emmbedings_test.npy\")\n",
    "\n",
    "_, indices = knn.kneighbors(tq)\n",
    "\n",
    "indices_original = np.asarray([questions.tolist().index(o) for o in original])\n",
    "\n",
    "rank = np.where(indices == indices_original[:, None])[1]\n",
    "penalization = (indices_original.shape[0] - rank.shape[0]) * 2 * knn.n_neighbors\n",
    "score = (rank.sum() + penalization) / indices_original.shape[0]\n",
    "\n",
    "print(f\"Score: {100 - score / (2 * N_NEIGHBOURS) * 100:.2f}%\")\n"
   ]
  }
 ],
 "metadata": {
  "kernelspec": {
   "display_name": "Python [conda env:synechron] *",
   "language": "python",
   "name": "conda-env-synechron-py"
  },
  "language_info": {
   "codemirror_mode": {
    "name": "ipython",
    "version": 3
   },
   "file_extension": ".py",
   "mimetype": "text/x-python",
   "name": "python",
   "nbconvert_exporter": "python",
   "pygments_lexer": "ipython3",
   "version": "3.11.4"
  }
 },
 "nbformat": 4,
 "nbformat_minor": 5
}
